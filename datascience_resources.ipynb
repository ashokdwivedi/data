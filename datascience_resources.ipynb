{
  "nbformat": 4,
  "nbformat_minor": 0,
  "metadata": {
    "colab": {
      "provenance": [],
      "authorship_tag": "ABX9TyPLKJ6+H7LibJK6Tzxt8HUG",
      "include_colab_link": true
    },
    "kernelspec": {
      "name": "python3",
      "display_name": "Python 3"
    },
    "language_info": {
      "name": "python"
    }
  },
  "cells": [
    {
      "cell_type": "markdown",
      "metadata": {
        "id": "view-in-github",
        "colab_type": "text"
      },
      "source": [
        "<a href=\"https://colab.research.google.com/github/ashokdwivedi/data/blob/main/datascience_resources.ipynb\" target=\"_parent\"><img src=\"https://colab.research.google.com/assets/colab-badge.svg\" alt=\"Open In Colab\"/></a>"
      ]
    },
    {
      "cell_type": "markdown",
      "source": [
        "## Data Science Resorces\n",
        "\n",
        "https://github.com/Chris-Engelhardt/data_sci_guide\n",
        "\n",
        "\n",
        "#R\n",
        "\n",
        "https://moderndive.com/6-multiple-regression.html\n"
      ],
      "metadata": {
        "id": "yozY3kHA2hDj"
      }
    },
    {
      "cell_type": "code",
      "execution_count": null,
      "metadata": {
        "id": "3SF4L12q2e-r"
      },
      "outputs": [],
      "source": []
    }
  ]
}