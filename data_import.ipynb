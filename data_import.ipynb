{
  "nbformat": 4,
  "nbformat_minor": 0,
  "metadata": {
    "colab": {
      "provenance": [],
      "authorship_tag": "ABX9TyOUOja9DjT9qVKxwKB4n8Oh",
      "include_colab_link": true
    },
    "kernelspec": {
      "name": "python3",
      "display_name": "Python 3"
    },
    "language_info": {
      "name": "python"
    }
  },
  "cells": [
    {
      "cell_type": "markdown",
      "metadata": {
        "id": "view-in-github",
        "colab_type": "text"
      },
      "source": [
        "<a href=\"https://colab.research.google.com/github/ashokdwivedi/data/blob/main/data_import.ipynb\" target=\"_parent\"><img src=\"https://colab.research.google.com/assets/colab-badge.svg\" alt=\"Open In Colab\"/></a>"
      ]
    },
    {
      "cell_type": "code",
      "execution_count": null,
      "metadata": {
        "id": "dIyrGNIEwI7v"
      },
      "outputs": [],
      "source": []
    },
    {
      "cell_type": "markdown",
      "source": [
        "# Uplading file to colab"
      ],
      "metadata": {
        "id": "1s0v-ITTwJ5K"
      }
    },
    {
      "cell_type": "markdown",
      "source": [
        "https://plainenglish.io/blog/how-can-we-upload-data-to-google-colab-ef31394b004a\n"
      ],
      "metadata": {
        "id": "t08zCD0QwRwT"
      }
    },
    {
      "cell_type": "markdown",
      "source": [
        "https://towardsdatascience.com/importing-data-to-google-colab-the-clean-way-5ceef9e9e3c8\n"
      ],
      "metadata": {
        "id": "IuWpAFNjwXaJ"
      }
    },
    {
      "cell_type": "code",
      "source": [],
      "metadata": {
        "id": "meXEg9GKwPmN"
      },
      "execution_count": null,
      "outputs": []
    }
  ]
}